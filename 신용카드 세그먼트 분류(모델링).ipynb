{
 "cells": [
  {
   "cell_type": "code",
   "execution_count": 1,
   "id": "865009e1-ca1a-4671-936f-19c3aef61dba",
   "metadata": {},
   "outputs": [],
   "source": [
    "import pandas as pd\n",
    "import random\n",
    "import os\n",
    "import numpy as np"
   ]
  },
  {
   "cell_type": "code",
   "execution_count": 2,
   "id": "a7cb61c2-a9f8-4a00-94eb-09b3ad641f22",
   "metadata": {},
   "outputs": [],
   "source": [
    "#훈련 데이터 / 테스트 데이터 파일 입력\n",
    "\n",
    "train_path = \"\"\n",
    "test_path =  \"\""
   ]
  },
  {
   "cell_type": "code",
   "execution_count": null,
   "id": "51e23fca-6809-400f-a832-ce4959dd7973",
   "metadata": {},
   "outputs": [],
   "source": [
    "train_df = pd.read_csv(train_path)\n",
    "y_train = train_df['Segment']"
   ]
  },
  {
   "cell_type": "code",
   "execution_count": null,
   "id": "696c5c56-f692-4778-ac53-f050e70f4dc1",
   "metadata": {},
   "outputs": [],
   "source": [
    "recommended_columns = [\n",
    "    # 예시 처\n",
    "    \"남녀구분코드\", \"연령\", \"Life_Stage\", \"입회경과개월수_신용\", \"최종카드발급경과월\",\n",
    "    \"회원여부_이용가능\", \"회원여부_연체\"\n",
    "]"
   ]
  },
  {
   "cell_type": "code",
   "execution_count": null,
   "id": "fb104db0-8ea3-4804-9f53-d94fddade489",
   "metadata": {},
   "outputs": [],
   "source": [
    "#선택한 피처만 훈련데이터로 만\n",
    "X = train_df[recommended_columns]"
   ]
  },
  {
   "cell_type": "code",
   "execution_count": null,
   "id": "4e18b1c8-3776-4abd-a4e4-9a4ba284d289",
   "metadata": {},
   "outputs": [],
   "source": [
    "#object인 컬럼만 만드는 리스트 컴프리핸션\n",
    "oj_columns = [x for x in X.columns if X[x].dtype == \"object\"]\n",
    "oj_columns"
   ]
  },
  {
   "cell_type": "code",
   "execution_count": null,
   "id": "51cb21ca-c626-4afc-a413-03588c9d7e0b",
   "metadata": {},
   "outputs": [],
   "source": [
    "from sklearn.preprocessing import LabelEncoder\n",
    "\n",
    "#전처리 함수\n",
    "def preprocessing(df):\n",
    "    oj_columns = [x for x in df.columns if df[x].dtype == \"object\"]\n",
    "    for cate in oj_columns:\n",
    "        df[cate] = df[cate].fillna(\"missing\")  # NaN 처리 먼저\n",
    "        le = LabelEncoder()\n",
    "        df[cate] = le.fit_transform(df[cate])\n",
    "\n",
    "    return df"
   ]
  },
  {
   "cell_type": "code",
   "execution_count": null,
   "id": "96e7ee19-f59d-42da-8ec4-997154b38ab4",
   "metadata": {},
   "outputs": [],
   "source": [
    "#X를 전처리 한다\n",
    "x_train = preprocessing(X)\n",
    "x_train"
   ]
  },
  {
   "cell_type": "code",
   "execution_count": null,
   "id": "d6725ef8-3b06-4155-9dbc-98e406538313",
   "metadata": {},
   "outputs": [],
   "source": [
    "#모델 학습 및 앙상블 예측\n",
    "from sklearn.model_selection import train_test_split\n",
    "from sklearn.metrics import accuracy_score\n",
    "from sklearn.preprocessing import LabelEncoder\n",
    "import numpy as np\n",
    "\n",
    "from xgboost import XGBClassifier\n",
    "from lightgbm import LGBMClassifier\n",
    "from catboost import CatBoostClassifier\n",
    "\n",
    "#변수 재정의\n",
    "X = x_train\n",
    "y = y_train"
   ]
  },
  {
   "cell_type": "code",
   "execution_count": null,
   "id": "38eeb2a8-06b5-44d7-8897-78f21f70fccf",
   "metadata": {},
   "outputs": [],
   "source": [
    "#라벨 인코\n",
    "from sklearn.preprocessing import LabelEncoder\n",
    "\n",
    "y = LabelEncoder().fit_transform(y)"
   ]
  },
  {
   "cell_type": "code",
   "execution_count": null,
   "id": "b60c76e6-aeba-45f9-968e-d4c00373030c",
   "metadata": {},
   "outputs": [],
   "source": [
    "#불균형 확인\n",
    "\n",
    "y = pd.Series(y)\n",
    "\n",
    "print(y.value_counts())\n",
    "print(y.value_counts(normalize=True))"
   ]
  },
  {
   "cell_type": "code",
   "execution_count": null,
   "id": "cb140a46-ffe8-488e-95d1-2269ab27c408",
   "metadata": {},
   "outputs": [],
   "source": [
    "#Segment 클래스 분류 시각화 확인\n",
    "import seaborn as sns\n",
    "import matplotlib.pyplot as plt\n",
    "\n",
    "sns.countplot(x=y)\n",
    "plt.title(\"Segment 클래스 분포\")\n",
    "plt.xlabel(\"Segment\")\n",
    "plt.ylabel(\"Count\")\n",
    "plt.show()"
   ]
  },
  {
   "cell_type": "code",
   "execution_count": null,
   "id": "b34caab9-fa61-41a7-8290-9be64bc98d8d",
   "metadata": {},
   "outputs": [],
   "source": [
    "#SMOTE + RandomOverSampler 조합\n",
    "\n",
    "from imblearn.over_sampling import SMOTE, RandomOverSampler\n",
    "from collections import Counter\n",
    "import pandas as pd\n",
    "\n",
    "# 1. SMOTE로 클래스 2, 3 보완\n",
    "smote = SMOTE(\n",
    "    sampling_strategy={2: 40000, 3: 45000},  # 원하는 수치로 증강\n",
    "    random_state=42\n",
    ")\n",
    "X_sm, y_sm = smote.fit_resample(X, y)\n",
    "\n",
    "# 2. RandomOverSampler로 클래스 0, 1 복제\n",
    "ros = RandomOverSampler(\n",
    "    sampling_strategy={0: 35000, 1: 30000},  # 최소 1,000개로 맞춤\n",
    "    random_state=42\n",
    ")\n",
    "X_resampled, y_resampled = ros.fit_resample(X_sm, y_sm)\n",
    "\n",
    "# 확인\n",
    "print(\"클래스 분포:\")\n",
    "print(pd.Series(y_resampled).value_counts())\n"
   ]
  },
  {
   "cell_type": "code",
   "execution_count": null,
   "id": "6d5d6666-6601-4778-8d5d-5f8271ff11d0",
   "metadata": {},
   "outputs": [],
   "source": [
    "# 하이퍼 파라미터 튜닝 및 앙상블\n",
    "\n",
    "from sklearn.model_selection import train_test_split, GridSearchCV\n",
    "from sklearn.metrics import make_scorer, f1_score, classification_report\n",
    "from xgboost import XGBClassifier\n",
    "from lightgbm import LGBMClassifier\n",
    "from catboost import CatBoostClassifier\n",
    "import numpy as np\n",
    "\n",
    "# 1. 데이터 분할\n",
    "X_train, X_val, y_train, y_val = train_test_split(\n",
    "    X_resampled, y_resampled, test_size=0.2, stratify=y_resampled, random_state=42\n",
    ")\n",
    "\n",
    "# 2. F1 scorer 정의\n",
    "f1_macro = make_scorer(f1_score, average='macro')\n",
    "\n",
    "# 3. XGBoost 튜닝\n",
    "param_xgb = {\n",
    "    'n_estimators': [100, 300],\n",
    "    'max_depth': [3, 5],\n",
    "    'learning_rate': [0.05, 0.1]\n",
    "}\n",
    "xgb = XGBClassifier(use_label_encoder=False, eval_metric='mlogloss', random_state=42)\n",
    "grid_xgb = GridSearchCV(xgb, param_xgb, scoring=f1_macro, cv=3, n_jobs=-1)\n",
    "grid_xgb.fit(X_train, y_train)\n",
    "best_xgb = grid_xgb.best_estimator_\n",
    "\n",
    "# 4. LightGBM 튜닝\n",
    "param_lgb = {\n",
    "    'n_estimators': [100, 300],\n",
    "    'max_depth': [3, 5],\n",
    "    'learning_rate': [0.05, 0.1]\n",
    "}\n",
    "lgb = LGBMClassifier(random_state=42)\n",
    "grid_lgb = GridSearchCV(lgb, param_lgb, scoring=f1_macro, cv=3, n_jobs=-1)\n",
    "grid_lgb.fit(X_train, y_train)\n",
    "best_lgb = grid_lgb.best_estimator_\n",
    "\n",
    "# 5. CatBoost 기본 (튜닝은 선택)\n",
    "cat = CatBoostClassifier(n_estimators=100, random_state=42, verbose=0)\n",
    "cat.fit(X_train, y_train)\n",
    "\n",
    "# 6. soft voting 예측\n",
    "xgb_proba = best_xgb.predict_proba(X_val)\n",
    "lgb_proba = best_lgb.predict_proba(X_val)\n",
    "cat_proba = cat.predict_proba(X_val)\n",
    "\n",
    "ensemble_proba = (xgb_proba + lgb_proba + cat_proba) / 3\n",
    "ensemble_pred = np.argmax(ensemble_proba, axis=1)  # 가장 큰 값 반환\n",
    "\n",
    "# 7. 평가\n",
    "print(\"F1 Score (macro):\", f1_score(y_val, ensemble_pred, average='macro'))\n",
    "print(\"F1 Score (weighted):\", f1_score(y_val, ensemble_pred, average='weighted'))\n",
    "print(\"\\n📊 Classification Report:\")\n",
    "print(classification_report(y_val, ensemble_pred))\n"
   ]
  },
  {
   "cell_type": "code",
   "execution_count": null,
   "id": "d18ce14f-2bb7-4394-915d-f9d72409260c",
   "metadata": {},
   "outputs": [],
   "source": []
  },
  {
   "cell_type": "code",
   "execution_count": null,
   "id": "f65127f3-8b50-4d5e-8c9d-55837c16c70c",
   "metadata": {},
   "outputs": [],
   "source": []
  }
 ],
 "metadata": {
  "kernelspec": {
   "display_name": "Python 3 (ipykernel)",
   "language": "python",
   "name": "python3"
  },
  "language_info": {
   "codemirror_mode": {
    "name": "ipython",
    "version": 3
   },
   "file_extension": ".py",
   "mimetype": "text/x-python",
   "name": "python",
   "nbconvert_exporter": "python",
   "pygments_lexer": "ipython3",
   "version": "3.12.9"
  }
 },
 "nbformat": 4,
 "nbformat_minor": 5
}
