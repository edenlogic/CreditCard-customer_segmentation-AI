{
 "cells": [
  {
   "cell_type": "code",
   "execution_count": 1,
   "metadata": {
    "id": "A7uosLd7gQT_"
   },
   "outputs": [],
   "source": [
    "import pandas as pd\n",
    "from sklearn.preprocessing import LabelEncoder\n",
    "from sklearn.model_selection import train_test_split\n",
    "from sklearn.metrics import f1_score\n",
    "from lightgbm import LGBMClassifier\n",
    "import matplotlib.pyplot as plt\n",
    "import seaborn as sns\n",
    "import numpy as np\n",
    "\n"
   ]
  },
  {
   "cell_type": "code",
   "execution_count": null,
   "metadata": {
    "colab": {
     "base_uri": "https://localhost:8080/"
    },
    "id": "JaK7f9TTg4Wf",
    "outputId": "581d9786-234c-4eef-da01-368ecdde4696"
   },
   "outputs": [],
   "source": [
    "from google.colab import drive\n",
    "drive.mount('/content/drive')"
   ]
  },
  {
   "cell_type": "code",
   "execution_count": null,
   "metadata": {
    "colab": {
     "base_uri": "https://localhost:8080/"
    },
    "id": "yYCVloMhTapc",
    "outputId": "8647f1d3-d5fe-474f-939f-902eb9c3d1f7"
   },
   "outputs": [],
   "source": [
    "!sudo apt-get install -y fonts-nanum\n",
    "!sudo fc-cache -fv\n",
    "!rm -rf ~/.cache/matplotlib\n",
    "\n",
    "path = '/usr/share/fonts/truetype/nanum/NanumGothicBold.ttf'\n",
    "import matplotlib.font_manager as fm\n",
    "font10 = fm.FontProperties(fname=path, size=10)\n",
    "\n",
    "plt.rc('font', family='NanumBarunGothic')"
   ]
  },
  {
   "cell_type": "code",
   "execution_count": null,
   "metadata": {
    "id": "h24CYIssg6dL"
   },
   "outputs": [],
   "source": [
    "# parquet -> 대용량 데이터셋을 다루기 위한 확장자.\n",
    "#csv -> 24만건 => 1.신용정보, .... 8.\n",
    "#열 갯수 -> 700"
   ]
  },
  {
   "cell_type": "code",
   "execution_count": null,
   "metadata": {
    "id": "fdRYp4eGhTSh"
   },
   "outputs": [],
   "source": [
    "train_path = \"/content/drive/MyDrive/card_train.csv\"\n",
    "test_path = \"/content/drive/MyDrive/card_test.csv\""
   ]
  },
  {
   "cell_type": "code",
   "execution_count": null,
   "metadata": {
    "id": "cxFQ7m47hs3n"
   },
   "outputs": [],
   "source": [
    "train_df = pd.read_csv(train_path, encoding = 'utf-8-sig')"
   ]
  },
  {
   "cell_type": "markdown",
   "metadata": {
    "id": "cZw1WtriLsSM"
   },
   "source": [
    "## 키워드별 Feature Importance 분석"
   ]
  },
  {
   "cell_type": "code",
   "execution_count": null,
   "metadata": {
    "colab": {
     "base_uri": "https://localhost:8080/",
     "height": 1000
    },
    "id": "igB-80YWjxiG",
    "outputId": "85ed29de-be1b-431c-c682-fb0178a3c81a"
   },
   "outputs": [],
   "source": [
    "import pandas as pd\n",
    "from sklearn.preprocessing import LabelEncoder\n",
    "from sklearn.model_selection import train_test_split\n",
    "from sklearn.metrics import f1_score\n",
    "from lightgbm import LGBMClassifier\n",
    "import matplotlib.pyplot as plt\n",
    "import matplotlib.font_manager as fm\n",
    "import seaborn as sns\n",
    "import numpy as np\n",
    "\n",
    "\n",
    "# ------------------------------------------------\n",
    "\n",
    "\n",
    "# 1. Load dataset\n",
    "train_df = pd.read_csv(train_path, encoding = 'utf-8-sig')\n",
    "y = train_df[\"Segment\"]\n",
    "X_full = train_df.drop(columns=[\"ID\", \"Unnamed: 0.1\", \"Segment.1\", \"Segment\"], errors=\"ignore\")\n",
    "\n",
    "# 2. Feature selection by keyword + optional time_filters\n",
    "def select_features_by_keywords(df, keywords, time_filters=None):\n",
    "    if time_filters and len(time_filters) > 0:\n",
    "        return df[[col for col in df.columns if any(k in col for k in keywords) and any(t in col for t in time_filters)]]\n",
    "    else:\n",
    "        return df[[col for col in df.columns if any(k in col for k in keywords)]]\n",
    "\n",
    "# 3. Train & evaluate\n",
    "def train_model_with_keywords(X, y):\n",
    "    X = X.fillna(\"missing\")\n",
    "    for col in X.select_dtypes(include=\"object\").columns:\n",
    "        X[col] = LabelEncoder().fit_transform(X[col].astype(str))\n",
    "    X_train, X_val, y_train, y_val = train_test_split(X, y, test_size=0.2, stratify=y, random_state=42)\n",
    "    model = LGBMClassifier(random_state=42)\n",
    "    model.fit(X_train, y_train)\n",
    "    y_pred = model.predict(X_val)\n",
    "    score = f1_score(y_val, y_pred, average=\"macro\")\n",
    "    return model, score\n",
    "\n",
    "# 4. Importance plot\n",
    "def plot_feature_importance(model, feature_names, top_n=30):\n",
    "    importances = model.feature_importances_\n",
    "    indices = np.argsort(importances)[-top_n:]\n",
    "    plt.figure(figsize=(8, 10))\n",
    "    sns.barplot(x=importances[indices], y=[feature_names[i] for i in indices])\n",
    "    plt.title(\"Top Feature Importances\")\n",
    "    plt.xlabel(\"Importance\")\n",
    "    plt.ylabel(\"Feature\")\n",
    "    plt.tight_layout()\n",
    "    plt.show()\n",
    "\n",
    "# 5. 실행: 키워드와 시간 필터 조건 지정 ----------------------------------------------------\n",
    "keywords = [\"이용\", \"금액\", \"연체\"]\n",
    "time_filters = []  # []로 두면 기간 조건 X\n",
    "\n",
    "X_selected = select_features_by_keywords(X_full, keywords, time_filters=time_filters)\n",
    "model, score = train_model_with_keywords(X_selected, y)\n",
    "print(f\"Macro F1 score: {score:.4f}\")\n",
    "plot_feature_importance(model, X_selected.columns)\n"
   ]
  },
  {
   "cell_type": "markdown",
   "metadata": {
    "id": "1SI7uIOt1FIP"
   },
   "source": [
    "## 전체 Feature Importance 상위 50개 분석"
   ]
  },
  {
   "cell_type": "code",
   "execution_count": null,
   "metadata": {
    "colab": {
     "base_uri": "https://localhost:8080/",
     "height": 1000
    },
    "id": "2Cx4FYesLmqv",
    "outputId": "cca79493-57fd-4a3d-bbd1-3e6fe96bc77f"
   },
   "outputs": [],
   "source": [
    "# 패키지 설치\n",
    "!pip install lightgbm -q\n",
    "!apt-get -qq install -y fonts-nanum\n",
    "\n",
    "# 라이브러리 임포트\n",
    "import pandas as pd\n",
    "import numpy as np\n",
    "from sklearn.preprocessing import LabelEncoder\n",
    "from sklearn.model_selection import train_test_split\n",
    "from sklearn.metrics import f1_score\n",
    "from lightgbm import LGBMClassifier\n",
    "import matplotlib.pyplot as plt\n",
    "import matplotlib.font_manager as fm\n",
    "import seaborn as sns\n",
    "import re # Import the re module for regular expressions\n",
    "\n",
    "# 한글 폰트 설정\n",
    "font_path = \"/usr/share/fonts/truetype/nanum/NanumGothic.ttf\"\n",
    "fontprop = fm.FontProperties(fname=font_path)\n",
    "plt.rcParams[\"font.family\"] = fontprop.get_name()\n",
    "plt.rcParams[\"axes.unicode_minus\"] = False\n",
    "\n",
    "# 데이터 불러오기\n",
    "train_df = pd.read_csv(\"/content/drive/MyDrive/card_train.csv\")\n",
    "y = train_df[\"Segment\"]\n",
    "X_full = train_df.drop(columns=[\"ID\", \"Unnamed: 0.1\", \"Segment.1\", \"Segment\"], errors=\"ignore\")\n",
    "\n",
    "# Function to sanitize column names\n",
    "def sanitize_column_names(df):\n",
    "    cols = df.columns\n",
    "    new_cols = []\n",
    "    for col in cols:\n",
    "        # Replace special characters and spaces with underscores\n",
    "        new_col = re.sub(r'[^\\w_]+', '_', col)\n",
    "        new_cols.append(new_col)\n",
    "    df.columns = new_cols\n",
    "    return df\n",
    "\n",
    "# Sanitize column names\n",
    "X_full = sanitize_column_names(X_full)\n",
    "\n",
    "\n",
    "# 전체 피처에서 중요도 기반 상위 N개 추출\n",
    "def get_top_features(X, y, top_n=50):\n",
    "    X = X.fillna(\"missing\")\n",
    "    # Label Encoding for object type columns\n",
    "    for col in X.select_dtypes(include=\"object\").columns:\n",
    "        X[col] = LabelEncoder().fit_transform(X[col].astype(str))\n",
    "\n",
    "    X_train, X_val, y_train, y_val = train_test_split(X, y, test_size=0.2, stratify=y, random_state=42)\n",
    "    model = LGBMClassifier(random_state=42)\n",
    "    model.fit(X_train, y_train)\n",
    "    importances = model.feature_importances_\n",
    "    top_indices = np.argsort(importances)[-top_n:]\n",
    "    return X.iloc[:, top_indices], y, X.columns[top_indices]\n",
    "\n",
    "# 모델 학습 및 평가\n",
    "def train_model(X, y):\n",
    "    X = X.fillna(\"missing\")\n",
    "    # Label Encoding for object type columns\n",
    "    for col in X.select_dtypes(include=\"object\").columns:\n",
    "        X[col] = LabelEncoder().fit_transform(X[col].astype(str))\n",
    "\n",
    "    X_train, X_val, y_train, y_val = train_test_split(X, y, test_size=0.2, stratify=y, random_state=42)\n",
    "    model = LGBMClassifier(random_state=42)\n",
    "    model.fit(X_train, y_train)\n",
    "    y_pred = model.predict(X_val)\n",
    "    score = f1_score(y_val, y_pred, average=\"macro\")\n",
    "    return model, score\n",
    "\n",
    "# 중요도 시각화\n",
    "def plot_feature_importance(model, feature_names, top_n=30):\n",
    "    importances = model.feature_importances_\n",
    "    indices = np.argsort(importances)[-top_n:]\n",
    "    # Need to map the sanitized names back to original or handle visualization differently\n",
    "    # For now, plotting with sanitized names\n",
    "    plt.figure(figsize=(8, 10))\n",
    "    sns.barplot(x=importances[indices], y=[feature_names[i] for i in indices])\n",
    "    plt.title(\"Top Feature Importances\", fontproperties=fontprop)\n",
    "    plt.xlabel(\"Importance\", fontproperties=fontprop)\n",
    "    plt.ylabel(\"Feature\", fontproperties=fontprop)\n",
    "    plt.tight_layout()\n",
    "    plt.show()\n",
    "\n",
    "# 실행\n",
    "# Use the sanitized X_full\n",
    "X_top50, y, top_columns = get_top_features(X_full, y, top_n=50)\n",
    "model_top50, score_top50 = train_model(X_top50, y)\n",
    "\n",
    "print(f\"Macro F1 score with TOP 50 features: {score_top50:.4f}\")\n",
    "# Pass the top_columns with sanitized names to the plotting function\n",
    "plot_feature_importance(model_top50, top_columns)"
   ]
  },
  {
   "cell_type": "code",
   "execution_count": null,
   "metadata": {
    "id": "SGmfPYlQhR5O"
   },
   "outputs": [],
   "source": []
  }
 ],
 "metadata": {
  "colab": {
   "provenance": []
  },
  "kernelspec": {
   "display_name": "Python (testvenv)",
   "language": "python",
   "name": "testvenv"
  },
  "language_info": {
   "codemirror_mode": {
    "name": "ipython",
    "version": 3
   },
   "file_extension": ".py",
   "mimetype": "text/x-python",
   "name": "python",
   "nbconvert_exporter": "python",
   "pygments_lexer": "ipython3",
   "version": "3.13.2"
  }
 },
 "nbformat": 4,
 "nbformat_minor": 4
}
